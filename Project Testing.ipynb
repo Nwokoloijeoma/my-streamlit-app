{
 "cells": [
  {
   "cell_type": "code",
   "execution_count": 4,
   "id": "415e2bd4",
   "metadata": {},
   "outputs": [
    {
     "name": "stdout",
     "output_type": "stream",
     "text": [
      "Accuracy: 0.93\n",
      "Classification Report:\n",
      "              precision    recall  f1-score   support\n",
      "\n",
      "           0       0.92      0.96      0.94       448\n",
      "           1       0.93      0.87      0.90       278\n",
      "\n",
      "    accuracy                           0.93       726\n",
      "   macro avg       0.93      0.92      0.92       726\n",
      "weighted avg       0.93      0.93      0.93       726\n",
      "\n",
      "Confusion Matrix:\n",
      "[[430  18]\n",
      " [ 35 243]]\n"
     ]
    }
   ],
   "source": [
    "import joblib\n",
    "import pandas as pd\n",
    "from sklearn.metrics import accuracy_score, classification_report, confusion_matrix\n",
    "from sklearn.preprocessing import LabelEncoder, StandardScaler\n",
    "from sklearn.model_selection import train_test_split\n",
    "from sklearn.preprocessing import StandardScaler\n",
    "\n",
    "# Load the dataset\n",
    "file_path = \"C:/Users/HP/OneDrive - Edge Hill University/Edgehill/Research Project/Report/predict+students+dropout+and+academic+success (4)/data.csv\"\n",
    "\n",
    "# Load the dataset with semicolon separator\n",
    "dataset = pd.read_csv(file_path, sep=';')\n",
    "\n",
    "dataset['Target'].value_counts()\n",
    "dataset['Target'] = LabelEncoder().fit_transform(dataset['Target'])\n",
    "dataset['Target'].value_counts()\n",
    "\n",
    "\n",
    "# Remove \"Enrolled\" students and focus on \"Graduate\" and \"Dropout\" only\n",
    "dataset = dataset[dataset['Target'] != 1]\n",
    "\n",
    "# Create 'Dropout' column (1 for dropout, 0 for graduate)\n",
    "dataset['Dropout'] = dataset['Target'].apply(lambda x: 1 if x == 0 else 0)\n",
    "\n",
    "# Standard Scaling the data\n",
    "x = dataset.iloc[:, :36].values\n",
    "scaler = StandardScaler()\n",
    "x = scaler.fit_transform(x)\n",
    "\n",
    "y = dataset['Dropout'].values\n",
    "\n",
    "# Train-test split\n",
    "x_train, x_test, y_train, y_test = train_test_split(x, y, test_size=0.2, random_state=1)\n",
    "\n",
    "# Load the saved model\n",
    "model = joblib.load('student_risk_model.pkl')\n",
    "\n",
    "# Predict on the test set\n",
    "y_pred = model.predict(x_test)\n",
    "\n",
    "# Evaluate performance\n",
    "accuracy = accuracy_score(y_test, y_pred)\n",
    "print(f\"Accuracy: {accuracy:.2f}\")\n",
    "\n",
    "# Detailed performance metrics\n",
    "print(\"Classification Report:\")\n",
    "print(classification_report(y_test, y_pred))\n",
    "\n",
    "# Confusion matrix\n",
    "cm = confusion_matrix(y_test, y_pred)\n",
    "print(\"Confusion Matrix:\")\n",
    "print(cm)"
   ]
  },
  {
   "cell_type": "code",
   "execution_count": null,
   "id": "6e089a2d",
   "metadata": {},
   "outputs": [],
   "source": []
  }
 ],
 "metadata": {
  "kernelspec": {
   "display_name": "Python 3 (ipykernel)",
   "language": "python",
   "name": "python3"
  },
  "language_info": {
   "codemirror_mode": {
    "name": "ipython",
    "version": 3
   },
   "file_extension": ".py",
   "mimetype": "text/x-python",
   "name": "python",
   "nbconvert_exporter": "python",
   "pygments_lexer": "ipython3",
   "version": "3.11.5"
  }
 },
 "nbformat": 4,
 "nbformat_minor": 5
}
